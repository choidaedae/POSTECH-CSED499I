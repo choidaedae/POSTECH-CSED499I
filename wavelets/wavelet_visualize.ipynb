{
 "cells": [
  {
   "cell_type": "code",
   "execution_count": 2,
   "metadata": {},
   "outputs": [],
   "source": [
    "import torch \n",
    "import cv2\n",
    "import numpy\n",
    "import os\n",
    "import matplotlib.pyplot as plt\n",
    "from DWT_IDWT_Layers import DWT_2D, IDWT_2D\n"
   ]
  },
  {
   "cell_type": "code",
   "execution_count": 4,
   "metadata": {},
   "outputs": [
    {
     "name": "stdout",
     "output_type": "stream",
     "text": [
      "/root/daehyeonchoi/brats/brats-unet/data_process/dataset/BraTS2021/visualize/flair.jpg, t1.jpg, t1ce.jpg, t2.jpg\n"
     ]
    },
    {
     "ename": "error",
     "evalue": "OpenCV(4.8.1) /io/opencv/modules/imgproc/src/color.cpp:182: error: (-215:Assertion failed) !_src.empty() in function 'cvtColor'\n",
     "output_type": "error",
     "traceback": [
      "\u001b[0;31m---------------------------------------------------------------------------\u001b[0m",
      "\u001b[0;31merror\u001b[0m                                     Traceback (most recent call last)",
      "\u001b[0;32m<ipython-input-4-0f04b261b08c>\u001b[0m in \u001b[0;36m<module>\u001b[0;34m\u001b[0m\n\u001b[1;32m      8\u001b[0m \u001b[0;34m\u001b[0m\u001b[0m\n\u001b[1;32m      9\u001b[0m \u001b[0mimage_cv\u001b[0m \u001b[0;34m=\u001b[0m \u001b[0mcv2\u001b[0m\u001b[0;34m.\u001b[0m\u001b[0mimread\u001b[0m\u001b[0;34m(\u001b[0m\u001b[0mflair_path\u001b[0m\u001b[0;34m)\u001b[0m\u001b[0;34m\u001b[0m\u001b[0;34m\u001b[0m\u001b[0m\n\u001b[0;32m---> 10\u001b[0;31m \u001b[0mimage_np\u001b[0m \u001b[0;34m=\u001b[0m \u001b[0mcv2\u001b[0m\u001b[0;34m.\u001b[0m\u001b[0mcvtColor\u001b[0m\u001b[0;34m(\u001b[0m\u001b[0mimage_cv\u001b[0m\u001b[0;34m,\u001b[0m \u001b[0mcv2\u001b[0m\u001b[0;34m.\u001b[0m\u001b[0mCOLOR_BGR2RGB\u001b[0m\u001b[0;34m)\u001b[0m\u001b[0;34m\u001b[0m\u001b[0;34m\u001b[0m\u001b[0m\n\u001b[0m\u001b[1;32m     11\u001b[0m \u001b[0;34m\u001b[0m\u001b[0m\n\u001b[1;32m     12\u001b[0m \u001b[0mplt\u001b[0m\u001b[0;34m.\u001b[0m\u001b[0mimshow\u001b[0m\u001b[0;34m(\u001b[0m\u001b[0mimage_np\u001b[0m\u001b[0;34m)\u001b[0m\u001b[0;34m\u001b[0m\u001b[0;34m\u001b[0m\u001b[0m\n",
      "\u001b[0;31merror\u001b[0m: OpenCV(4.8.1) /io/opencv/modules/imgproc/src/color.cpp:182: error: (-215:Assertion failed) !_src.empty() in function 'cvtColor'\n"
     ]
    }
   ],
   "source": [
    "image_dir = \"/root/daehyeonchoi/brats/brats-unet/data_process/dataset/BraTS2021/visualize\"\n",
    "\n",
    "image_types = [\"flair.jpg\", \"t1.jpg\", \"t1ce.jpg\", \"t2.jpg\"]\n",
    "\n",
    "flair_path = os.path.join(image_dir, image_types[0])\n",
    "\n",
    "print(flair_path)\n",
    "\n",
    "image_cv = cv2.imread(flair_path)\n",
    "image_np = cv2.cvtColor(image_cv, cv2.COLOR_BGR2RGB)\n",
    "\n",
    "plt.imshow(image_np)\n",
    "image_tensor = torch.from_numpy(image_np).permute(2, 0, 1).float() \n"
   ]
  },
  {
   "cell_type": "code",
   "execution_count": null,
   "metadata": {},
   "outputs": [],
   "source": [
    "if __name__ == '__main__':\n",
    "    dwt = DWT_2D(\"haar\")\n",
    "    iwt = IDWT_2D(\"haar\")\n",
    "    \n",
    "    image_path = 'your_image.jpg'\n",
    "\n",
    "    x = torch.randn(3, 3, 24, 24).cuda()\n",
    "    xll = x\n",
    "    wavelet_list = []\n",
    "    \n",
    "    for i in range(3):\n",
    "        xll, xlh, xhl, xhh = dwt(xll)\n",
    "        wavelet_list.append([xll, xlh, xhl, xhh])\n",
    "        \n",
    "    for i, map in enumerate(wavelet_list):\n",
    "        print(i)\n",
    "        print(map[0].shape)\n",
    "\n",
    "\n",
    "    # xll = wavelet_list[-1] * torch.randn(xll.shape)\n",
    "    for i in range(2)[::-1]:\n",
    "        xll, xlh, xhl, xhh = wavelet_list[i]\n",
    "        xll = iwt(xll, xlh, xhl, xhh)\n",
    "        print(xll.shape)\n",
    "\n",
    "    print(torch.sum(x - xll))\n",
    "    print(torch.sum(x - iwt(*wavelet_list[0])))\n",
    "    "
   ]
  }
 ],
 "metadata": {
  "kernelspec": {
   "display_name": "base",
   "language": "python",
   "name": "python3"
  },
  "language_info": {
   "codemirror_mode": {
    "name": "ipython",
    "version": 3
   },
   "file_extension": ".py",
   "mimetype": "text/x-python",
   "name": "python",
   "nbconvert_exporter": "python",
   "pygments_lexer": "ipython3",
   "version": "3.8.8"
  }
 },
 "nbformat": 4,
 "nbformat_minor": 2
}
